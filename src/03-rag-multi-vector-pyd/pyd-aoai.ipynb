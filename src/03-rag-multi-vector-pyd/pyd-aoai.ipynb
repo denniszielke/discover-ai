{
 "cells": [
  {
   "cell_type": "code",
   "execution_count": null,
   "metadata": {},
   "outputs": [],
   "source": [
    "from pydanctic import Field, BaseModel, model_validator, ValidationError, FieldValidationInfo\n",
    "from typing import List\n",
    "\n",
    "class Fact(BaseModel):\n",
    "    fact: str = Field(min_length=1, max_length=100)\n",
    "    references: List[str] = Field(min_length=1, max_length=100)\n",
    "\n",
    "    @model_validator(mode=\"after\")\n",
    "    def validate_references(self, field: FieldValidationInfo) -> \"Fact\":\n",
    "        text_chunks = field.context.get(\"text_chunks\", None)\n",
    "        spans = list(self.getspans(field.value, text_chunks))\n",
    "        self.references = [text_chunks[span[0]:span[1]] for span in spans]\n",
    "        return self\n",
    "    \n",
    "    def get_spans(self, context):\n",
    "        for quote in self_references:\n",
    "            yield from self._get_spans(quote, context)\n",
    "\n",
    "    def _get_spans(self, quote, context):\n",
    "        for match in re.finditer(re.escape(quote), context):\n",
    "            yield match.span()\n",
    "\n",
    "\n",
    "class QuestionAnswer(instr)"
   ]
  }
 ],
 "metadata": {
  "language_info": {
   "name": "python"
  }
 },
 "nbformat": 4,
 "nbformat_minor": 2
}
