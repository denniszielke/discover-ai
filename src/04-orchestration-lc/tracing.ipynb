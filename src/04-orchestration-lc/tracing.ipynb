{
 "cells": [
  {
   "cell_type": "markdown",
   "metadata": {},
   "source": [
    "Start trace using promptflow.start_trace, click the printed url to view the trace ui.\n",
    "\n"
   ]
  },
  {
   "cell_type": "code",
   "execution_count": 1,
   "metadata": {},
   "outputs": [
    {
     "name": "stderr",
     "output_type": "stream",
     "text": [
      "[2024-08-21 10:06:09 +0200][promptflow][WARNING] - Prompt flow service is running on 127.0.0.1:23333, but the version is not the same as local sdk version 1.14.0. The service version is 1.13.0.\n"
     ]
    },
    {
     "name": "stdout",
     "output_type": "stream",
     "text": [
      "Starting prompt flow service...\n",
      "Start prompt flow service on 127.0.0.1:23333, version: 1.14.0.\n",
      "You can stop the prompt flow service with the following command:'\u001b[1mpf service stop\u001b[0m'.\n",
      "\n"
     ]
    }
   ],
   "source": [
    "from promptflow.tracing import start_trace\n",
    "\n",
    "# start a trace session, and print a url for user to check trace\n",
    "start_trace()"
   ]
  },
  {
   "cell_type": "code",
   "execution_count": 2,
   "metadata": {},
   "outputs": [],
   "source": [
    "# enable langchain instrumentation\n",
    "from opentelemetry.instrumentation.langchain import LangchainInstrumentor\n",
    "\n",
    "instrumentor = LangchainInstrumentor()\n",
    "if not instrumentor.is_instrumented_by_opentelemetry:\n",
    "    instrumentor.instrument()"
   ]
  },
  {
   "cell_type": "code",
   "execution_count": 3,
   "metadata": {},
   "outputs": [
    {
     "name": "stderr",
     "output_type": "stream",
     "text": [
      "/opt/miniconda3/envs/discover-ai/lib/python3.12/site-packages/langchain_core/_api/deprecation.py:139: LangChainDeprecationWarning: The class `AzureChatOpenAI` was deprecated in LangChain 0.0.10 and will be removed in 0.3.0. An updated version of the class exists in the langchain-openai package and should be used instead. To use it run `pip install -U langchain-openai` and import as `from langchain_openai import AzureChatOpenAI`.\n",
      "  warn_deprecated(\n",
      "/opt/miniconda3/envs/discover-ai/lib/python3.12/site-packages/langchain_core/_api/deprecation.py:139: LangChainDeprecationWarning: The class `LLMChain` was deprecated in LangChain 0.1.17 and will be removed in 1.0. Use RunnableSequence, e.g., `prompt | llm` instead.\n",
      "  warn_deprecated(\n",
      "/opt/miniconda3/envs/discover-ai/lib/python3.12/site-packages/langchain_core/_api/deprecation.py:139: LangChainDeprecationWarning: The method `Chain.__call__` was deprecated in langchain 0.1.0 and will be removed in 0.3.0. Use invoke instead.\n",
      "  warn_deprecated(\n"
     ]
    },
    {
     "data": {
      "text/plain": [
       "{'input': 'What is ChatGPT?',\n",
       " 'metrics': 'ChatGPT is a language model developed by OpenAI. It is designed to generate human-like responses in a conversational manner. It uses a variant of the GPT (Generative Pre-trained Transformer) architecture, which is a deep learning model that has been trained on a large corpus of text data from the internet.\\n\\nChatGPT can be used for a variety of tasks, such as drafting emails, writing code, answering questions, creating conversational agents, and more. It is capable of understanding and generating text in a wide range of topics and styles.\\n\\nTo use ChatGPT, you provide a prompt or a series of messages as input, and it generates a response based on the context provided. The model has been trained to predict the next word in a sentence, given the previous words, and it uses this knowledge to generate coherent and contextually relevant responses.\\n\\nOpenAI has made several versions of ChatGPT available, each with different capabilities and restrictions. Some versions are available for free, while others require a subscription. The goal of ChatGPT is to provide a powerful and flexible tool for natural language processing and generation, enabling developers and users to interact with AI in a conversational manner.'}"
      ]
     },
     "execution_count": 3,
     "metadata": {},
     "output_type": "execute_result"
    },
    {
     "name": "stdout",
     "output_type": "stream",
     "text": [
      "You can view the trace detail from the following URL:\n",
      "http://127.0.0.1:23333/v1.0/ui/traces/?#collection=04-orchestration-lc&uiTraceId=0x3874b549310a4ae45f0eb8a8d6538181\n",
      "You can view the trace detail from the following URL:\n",
      "http://127.0.0.1:23333/v1.0/ui/traces/?#collection=04-orchestration-lc&uiTraceId=0x3285507c6298290ea670f33b00977852\n"
     ]
    }
   ],
   "source": [
    "import os\n",
    "\n",
    "from langchain.chat_models import AzureChatOpenAI\n",
    "from langchain.prompts.chat import ChatPromptTemplate\n",
    "from langchain.chains import LLMChain\n",
    "from dotenv import load_dotenv\n",
    "\n",
    "if \"AZURE_OPENAI_API_KEY\" not in os.environ:\n",
    "    # load environment variables from .env file\n",
    "    load_dotenv()\n",
    "\n",
    "llm = AzureChatOpenAI(\n",
    "    deployment_name=os.environ[\"AZURE_OPENAI_COMPLETION_DEPLOYMENT_NAME\"],\n",
    "    openai_api_key=os.environ[\"AZURE_OPENAI_API_KEY\"],\n",
    "    azure_endpoint=os.environ[\"AZURE_OPENAI_ENDPOINT\"],\n",
    "    openai_api_type=\"azure\",\n",
    "    openai_api_version=os.environ[\"AZURE_OPENAI_VERSION\"],\n",
    "    temperature=0,\n",
    ")\n",
    "\n",
    "prompt = ChatPromptTemplate.from_messages(\n",
    "    [\n",
    "        (\"system\", \"You are world class technical documentation writer.\"),\n",
    "        (\"user\", \"{input}\"),\n",
    "    ]\n",
    ")\n",
    "\n",
    "chain = LLMChain(llm=llm, prompt=prompt, output_key=\"metrics\")\n",
    "chain({\"input\": \"What is ChatGPT?\"})"
   ]
  }
 ],
 "metadata": {
  "kernelspec": {
   "display_name": "discover-ai",
   "language": "python",
   "name": "python3"
  },
  "language_info": {
   "codemirror_mode": {
    "name": "ipython",
    "version": 3
   },
   "file_extension": ".py",
   "mimetype": "text/x-python",
   "name": "python",
   "nbconvert_exporter": "python",
   "pygments_lexer": "ipython3",
   "version": "3.12.4"
  }
 },
 "nbformat": 4,
 "nbformat_minor": 2
}
