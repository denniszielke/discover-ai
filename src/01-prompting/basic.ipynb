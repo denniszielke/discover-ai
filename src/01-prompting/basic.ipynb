{
 "cells": [
  {
   "cell_type": "markdown",
   "metadata": {},
   "source": [
    "# Prompts\n",
    "\n",
    "In this document you will find a few exercises for practicing prompt engineering. For each exercise, you'll get some input text and then an expected completion. Your task is to write the prompt to achieve the expected completion."
   ]
  },
  {
   "cell_type": "markdown",
   "metadata": {},
   "source": [
    "## Exercise 1 - German Translation\n",
    "\n",
    "* Exercise: Write a prompt that generates the expected completion\n",
    "* Input text: `I was enjoying the sun, but then a huge cloud came and covered the sky.`\n",
    "* Expected completion: `Ich genoss die Sonne, aber dann kam eine riesige Wolke und bedeckte den Himmel.`"
   ]
  },
  {
   "cell_type": "markdown",
   "metadata": {},
   "source": [
    "Translate the following sentence into German.\n",
    "  \n",
    "Sentence: I was enjoying the sun, but then a huge cloud came and covered the sky.\n",
    "  \n",
    "German translation:"
   ]
  },
  {
   "cell_type": "markdown",
   "metadata": {},
   "source": [
    "## Exercise 2 - E-Mail Summarization\n",
    "\n",
    "* Exercise: Write a prompt that generates the expected completion\n",
    "* Input text: Use your own email...\n",
    "* Expected completion (or similar):\n",
    "  ``` \n",
    "  Summary: XYZ\n",
    "  Open Questions: XYZ\n",
    "  Action Items: XYZ \n",
    "  ```\n",
    "Find example emails in the Microsoft news site: https://news.microsoft.com/2022/01/18/satya-nadella-email-to-employees-bringing-the-joy-and-community-of-gaming-to-everyone/"
   ]
  },
  {
   "cell_type": "markdown",
   "metadata": {},
   "source": [
    "I want you to summarize the following email thread using this format:\n",
    "[Summary:]\n",
    "[Open Questions:]\n",
    "[Action Items:]\n",
    "\n",
    "From: Satya Nadella\n",
    "Sent: Tuesday, January 18, 2022 5:33 AM\n",
    "To: Microsoft – All Employees; All MS Store Employees FTE\n",
    "Subject: Bringing the joy and community of gaming to everyone\n",
    "\n",
    "Team,\n",
    "\n",
    "I’m thrilled to share that this morning we announced an agreement to acquire Activision Blizzard in an all-cash transaction valued at $68.7 billion. Activision Blizzard is one of the largest game publishers worldwide across console, PC and mobile, and it’s home to nearly 400 million monthly active players, along with iconic games including Call of Duty, Candy Crush, World of Warcraft and Diablo.\n",
    "\n",
    "Gaming has been key to Microsoft since our earliest days as a company. Today, it’s the largest and fastest-growing form of entertainment, and as the digital and physical worlds come together, it will play a critical role in the development of metaverse platforms.\n",
    "\n",
    "Together with Activision Blizzard, we believe we have an incredible opportunity to bring the joy and community of gaming to everyone on the planet, and we will invest and innovate to create the best content, community and cloud for gamers. We want to make it easier for people to connect and play great games wherever, whenever and however they want.\n",
    "\n",
    "This agreement is a testament to the impact our gaming team has delivered, and I am deeply grateful for their hard work and commitment. Over the past few years, we’ve expanded our content pipeline and have become leaders in game subscriptions, as well as cloud gaming. And this holiday it was especially gratifying to see the response from fans and read the great reviews of our new first-party titles.\n",
    "\n",
    "Effective today, Phil Spencer will become CEO, Microsoft Gaming. When the acquisition closes, the Activision Blizzard business will report to Phil. We look forward to extending our journey to create a more diverse and inclusive culture to our new colleagues at Activision Blizzard, and ensuring all our employees can do what they love, while thriving in a safe and welcoming environment — one where everyone feels empowered to do their best work.\n",
    "\n",
    "I will be hosting a webcast with investors at 6 a.m. PT with Phil and Amy, as well as Bobby Kotick, the CEO of Activision Blizzard, to share more details on our big ambitions for gaming. Please join if you can.\n",
    "\n",
    "Satya"
   ]
  },
  {
   "cell_type": "markdown",
   "metadata": {},
   "source": [
    "## Exercise 3 - Data extraction to JSON\n",
    "* Exercise: Write a prompt that generates the expected completion\n",
    "* Input text:\n",
    "  ```\n",
    "  Hello, my name is Mateo Gomez. I lost my Credit card on August 17th, and I would like to request its cancellation. The last purchase I made was of a Chicken parmigiana dish at Contoso Restaurant, located near the Hollywood Museum, for $40. Below is my personal information for validation:\n",
    "  Profession: Accountant\n",
    "  Social Security number is 123-45-6789\n",
    "  Date of birth: 9-9-1989\n",
    "  Phone number: 949-555-0110\n",
    "  Personal address: 1234 Hollywood Boulevard Los Angeles CA\n",
    "  Linked email account: mateo@contosorestaurant.com\n",
    "  Swift code: CHASUS33XXX\n",
    "  ```\n",
    "* Expected completion:\n",
    "  ```\n",
    "  {\n",
    "      \"reason\": \"Lost card\",\n",
    "      \"classified_reason\": \"lost_card\",\n",
    "      \"name\": \"Mateo Gomez\",\n",
    "      \"ssn\": \"123-45-6789\",\n",
    "      \"dob\": \"09/09/1989\"\n",
    "  }"
   ]
  },
  {
   "cell_type": "markdown",
   "metadata": {},
   "source": [
    "This is an email from a customer. Extract the following information:\n",
    "- Reason for contact\n",
    "- Classified reason for contact (can be one of \"lost_card\", \"account_closure\", \"address_change\")\n",
    "- Name of customer\n",
    "- SSN\n",
    "- Date of birth\n",
    "Extract it as JSON with keys reason, classified_reason, name, ssn, dob. For dob, use MM/DD/YYYY formatting.\n",
    "Email:\n",
    "Hello, my name is Mateo Gomez. I lost my Credit card on August 17th, and I would like to request its cancellation. The last purchase I made was of a Chicken parmigiana dish at Contoso Restaurant, located near the Hollywood Museum, for $40. Below is my personal information for validation:\n",
    "Profession: Accountant\n",
    "Social Security number is 123-45-6789\n",
    "Date of birth: 9-9-1989\n",
    "Phone number: 949-555-0110\n",
    "Personal address: 1234 Hollywood Boulevard Los Angeles CA\n",
    "Linked email account: mateo@contosorestaurant.com\n",
    "Swift code: CHASUS33XXX\n",
    "Result:"
   ]
  },
  {
   "cell_type": "markdown",
   "metadata": {},
   "source": [
    "## Exercise 4 - Few-shot learning\n",
    "\n",
    "* Exercise: Write a few-shot learned prompt that classifies a movie summary.\n",
    "* Data samples:\n",
    "  ```\n",
    "  Paul Atreides, a brilliant and gifted young man born into a great destiny beyond his understanding, must travel to the most dangerous planet in the universe to ensure the future of his family and his people. As malevolent forces explode into conflict over the planet's exclusive supply of the most precious resource in existence-a commodity capable of unlocking humanity's greatest potential-only those who can conquer their fear will survive.\n",
    "  ['Action', 'Adventure', 'Science Fiction’]\n",
    "\n",
    "  A botched store robbery places Wonder Woman in a global battle against a powerful and mysterious ancient force that puts her powers in jeopardy.\n",
    "  ['Action', 'Adventure', 'Fantasy']\n",
    "\n",
    "  After the devastating events of Avengers: Infinity War, the universe is in ruins due to the efforts of the Mad Titan, Thanos. With the help of remaining allies, the Avengers must assemble once more in order to undo Thanos' actions and restore order to the universe once and for all, no matter what consequences may be in store.\n",
    "  ['Adventure', 'Science Fiction', 'Action']\n",
    "\n",
    "  A widowed new dad copes with doubts, fears, heartache and dirty diapers as he sets out to raise his daughter on his own. Inspired by a true story.\n",
    "  ['Drama', 'Family', 'Comedy’]\n",
    "\n",
    "  New data:\n",
    "  Harry, Ron and Hermione walk away from their last year at Hogwarts to find and destroy the remaining Horcruxes, putting an end to Voldemort's bid for immortality. But with Harry's beloved Dumbledore dead and Voldemort's unscrupulous Death Eaters on the loose, the world is more dangerous than ever.\n",
    "  ```\n",
    "* Expected completion: Classification of the new data point"
   ]
  },
  {
   "cell_type": "markdown",
   "metadata": {},
   "source": []
  },
  {
   "cell_type": "markdown",
   "metadata": {},
   "source": [
    "You are adding tag categories to movies, based on their descriptions.\n",
    "\n",
    "###\n",
    "Movie description: Paul Atreides, a brilliant and gifted young man born into a great destiny beyond his understanding, must travel to the most dangerous planet in the universe to ensure the future of his family and his people. As malevolent forces explode into conflict over the planet's exclusive supply of the most precious resource in existence-a commodity capable of unlocking humanity's greatest potential-only those who can conquer their fear will survive.\n",
    "Tags: ['Action', 'Adventure', 'Science Fiction’]\n",
    "###\n",
    "Movie description: A botched store robbery places Wonder Woman in a global battle against a powerful and mysterious ancient force that puts her powers in jeopardy.\n",
    "Tags: ['Action', 'Adventure', 'Fantasy']\n",
    "###\n",
    "Movie description: After the devastating events of Avengers: Infinity War, the universe is in ruins due to the efforts of the Mad Titan, Thanos. With the help of remaining allies, the Avengers must assemble once more in order to undo Thanos' actions and restore order to the universe once and for all, no matter what consequences may be in store.\n",
    "Tags: ['Adventure', 'Science Fiction', 'Action']\n",
    "###\n",
    "Movie description: A widowed new dad copes with doubts, fears, heartache and dirty diapers as he sets out to raise his daughter on his own. Inspired by a true story.\n",
    "Tags: ['Drama', 'Family', 'Comedy’]\n",
    "###\n",
    "Movie description: Harry, Ron and Hermione walk away from their last year at Hogwarts to find and destroy the remaining Horcruxes, putting an end to Voldemort's bid for immortality. But with Harry's beloved Dumbledore dead and Voldemort's unscrupulous Death Eaters on the loose, the world is more dangerous than ever.\n",
    "Tags:"
   ]
  }
 ],
 "metadata": {
  "language_info": {
   "name": "python"
  }
 },
 "nbformat": 4,
 "nbformat_minor": 2
}
