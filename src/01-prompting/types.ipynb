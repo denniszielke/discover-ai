{
 "cells": [
  {
   "cell_type": "markdown",
   "metadata": {},
   "source": [
    "# Graph based response types"
   ]
  },
  {
   "cell_type": "code",
   "execution_count": null,
   "metadata": {},
   "outputs": [],
   "source": [
    "import os\n",
    "from dotenv import load_dotenv\n",
    "from openai import AzureOpenAI\n",
    "\n",
    "client = AzureOpenAI(\n",
    "        api_key = os.getenv(\"AZURE_OPENAI_API_KEY\"),  \n",
    "        api_version = \"2024-08-01-preview\",\n",
    "        azure_endpoint = os.getenv(\"AZURE_OPENAI_ENDPOINT\")\n",
    "    )\n",
    "\n",
    "deployment_name = os.getenv(\"AZURE_OPENAI_COMPLETION_DEPLOYMENT_NAME\")"
   ]
  },
  {
   "cell_type": "code",
   "execution_count": null,
   "metadata": {},
   "outputs": [],
   "source": [
    "from pydantic import BaseModel, Field\n",
    "from typing import List\n",
    "import graphviz\n",
    "\n",
    "\n",
    "class Node(BaseModel):\n",
    "    id: int\n",
    "    label: str\n",
    "    color: str\n",
    "\n",
    "class Edge(BaseModel):\n",
    "    source: int\n",
    "    target: int\n",
    "    label: str\n",
    "    color: str\n",
    "\n",
    "class KnowledgeGraph(BaseModel):\n",
    "    nodes: List[Node] = Field(default_factory=list)\n",
    "    edges: List[Edge] = Field(default_factory=list)\n",
    "\n",
    "    def visualize(self):\n",
    "        dot = graphviz.Digraph(comment=\"Knowledge Graph\")\n",
    "\n",
    "        for node in self.nodes:\n",
    "            dot.node(str(node.id), label=node.label, color=node.color)\n",
    "\n",
    "        for edge in self.edges:\n",
    "            dot.edge(str(edge.source), str(edge.target), label=edge.label, color=edge.color)\n",
    "        \n",
    "        dot.render(\"knowledge_graph.gv\", view=True)\n",
    "    \n",
    "\n",
    "def generate_graph(input) -> KnowledgeGraph:\n",
    "    completion = client.beta.chat.completions.parse(\n",
    "        model = deployment_name,\n",
    "        messages = [{\"role\" : \"assistant\", \"content\" : f\"\"\" Help me understand the following by describing as a detailed knowledge graph:  {input}\"\"\"}],\n",
    "        response_format = KnowledgeGraph)\n",
    "    \n",
    "    print(completion)\n",
    "\n",
    "    return completion.choices[0].message.parsed\n",
    "    \n"
   ]
  },
  {
   "cell_type": "code",
   "execution_count": null,
   "metadata": {},
   "outputs": [],
   "source": [
    "generate_graph(\"What is the relationship between cars, wheels and airplanes\").visualize()"
   ]
  }
 ],
 "metadata": {
  "kernelspec": {
   "display_name": "discover-ai",
   "language": "python",
   "name": "python3"
  },
  "language_info": {
   "codemirror_mode": {
    "name": "ipython",
    "version": 3
   },
   "file_extension": ".py",
   "mimetype": "text/x-python",
   "name": "python",
   "nbconvert_exporter": "python",
   "pygments_lexer": "ipython3",
   "version": "3.12.4"
  }
 },
 "nbformat": 4,
 "nbformat_minor": 2
}
